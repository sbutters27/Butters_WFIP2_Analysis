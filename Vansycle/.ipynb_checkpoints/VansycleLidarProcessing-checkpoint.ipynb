{
 "cells": [
  {
   "cell_type": "code",
   "execution_count": 2,
   "metadata": {},
   "outputs": [],
   "source": [
    "import matplotlib.pyplot as plt\n",
    "import pandas as pd\n",
    "import numpy as np\n",
    "import math\n",
    "import xarray as xr\n",
    "from numpy.lib.stride_tricks import as_strided as strided"
   ]
  },
  {
   "cell_type": "code",
   "execution_count": 3,
   "metadata": {},
   "outputs": [
    {
     "data": {
      "text/html": [
       "<div>\n",
       "<style scoped>\n",
       "    .dataframe tbody tr th:only-of-type {\n",
       "        vertical-align: middle;\n",
       "    }\n",
       "\n",
       "    .dataframe tbody tr th {\n",
       "        vertical-align: top;\n",
       "    }\n",
       "\n",
       "    .dataframe thead th {\n",
       "        text-align: right;\n",
       "    }\n",
       "</style>\n",
       "<table border=\"1\" class=\"dataframe\">\n",
       "  <thead>\n",
       "    <tr style=\"text-align: right;\">\n",
       "      <th></th>\n",
       "      <th>height</th>\n",
       "      <th>wind_speed</th>\n",
       "    </tr>\n",
       "    <tr>\n",
       "      <th>time</th>\n",
       "      <th></th>\n",
       "      <th></th>\n",
       "    </tr>\n",
       "  </thead>\n",
       "  <tbody>\n",
       "    <tr>\n",
       "      <th>2016-03-09 21:40:00</th>\n",
       "      <td>40.0</td>\n",
       "      <td>12.82</td>\n",
       "    </tr>\n",
       "    <tr>\n",
       "      <th>2016-03-09 21:50:00</th>\n",
       "      <td>40.0</td>\n",
       "      <td>11.03</td>\n",
       "    </tr>\n",
       "    <tr>\n",
       "      <th>2016-03-09 22:00:00</th>\n",
       "      <td>40.0</td>\n",
       "      <td>9.50</td>\n",
       "    </tr>\n",
       "    <tr>\n",
       "      <th>2016-03-09 22:10:00</th>\n",
       "      <td>40.0</td>\n",
       "      <td>9.05</td>\n",
       "    </tr>\n",
       "    <tr>\n",
       "      <th>2016-03-09 22:20:00</th>\n",
       "      <td>40.0</td>\n",
       "      <td>8.18</td>\n",
       "    </tr>\n",
       "    <tr>\n",
       "      <th>...</th>\n",
       "      <td>...</td>\n",
       "      <td>...</td>\n",
       "    </tr>\n",
       "    <tr>\n",
       "      <th>2017-04-17 23:20:00</th>\n",
       "      <td>200.0</td>\n",
       "      <td>NaN</td>\n",
       "    </tr>\n",
       "    <tr>\n",
       "      <th>2017-04-17 23:30:00</th>\n",
       "      <td>200.0</td>\n",
       "      <td>NaN</td>\n",
       "    </tr>\n",
       "    <tr>\n",
       "      <th>2017-04-17 23:40:00</th>\n",
       "      <td>200.0</td>\n",
       "      <td>NaN</td>\n",
       "    </tr>\n",
       "    <tr>\n",
       "      <th>2017-04-17 23:50:00</th>\n",
       "      <td>200.0</td>\n",
       "      <td>NaN</td>\n",
       "    </tr>\n",
       "    <tr>\n",
       "      <th>2017-04-18 00:00:00</th>\n",
       "      <td>200.0</td>\n",
       "      <td>NaN</td>\n",
       "    </tr>\n",
       "  </tbody>\n",
       "</table>\n",
       "<p>1047294 rows × 2 columns</p>\n",
       "</div>"
      ],
      "text/plain": [
       "                     height  wind_speed\n",
       "time                                   \n",
       "2016-03-09 21:40:00    40.0       12.82\n",
       "2016-03-09 21:50:00    40.0       11.03\n",
       "2016-03-09 22:00:00    40.0        9.50\n",
       "2016-03-09 22:10:00    40.0        9.05\n",
       "2016-03-09 22:20:00    40.0        8.18\n",
       "...                     ...         ...\n",
       "2017-04-17 23:20:00   200.0         NaN\n",
       "2017-04-17 23:30:00   200.0         NaN\n",
       "2017-04-17 23:40:00   200.0         NaN\n",
       "2017-04-17 23:50:00   200.0         NaN\n",
       "2017-04-18 00:00:00   200.0         NaN\n",
       "\n",
       "[1047294 rows x 2 columns]"
      ]
     },
     "execution_count": 3,
     "metadata": {},
     "output_type": "execute_result"
    }
   ],
   "source": [
    "VanWS = xr.open_mfdataset('/projects/sebu3651/ProjectResearch/Vansycle/VansycleLidar/lidar.z08.b0.*.nc', combine= 'by_coords', concat_dim= 'time')\n",
    "VanWSdf = VanWS.to_dataframe()\n",
    "\n",
    "VanWSdf.reset_index(inplace=True)\n",
    "VanWSdf.set_index('time', inplace=True)\n",
    "\n",
    "del VanWSdf['time_bounds']\n",
    "del VanWSdf['bounds']\n",
    "del VanWSdf['latitude']\n",
    "del VanWSdf['longitude']\n",
    "del VanWSdf['altitude']\n",
    "del VanWSdf['wind_speed_std']\n",
    "del VanWSdf['wind_direction']\n",
    "del VanWSdf['vertical_air_velocity']\n",
    "del VanWSdf['vertical_air_velocity_std']\n",
    "\n",
    "VanWSdf['wind_speed'].values[VanWSdf['wind_speed'].values>1000.0]=np.nan\n",
    "\n",
    "# VanWSdf.to_csv('VansycleLidar10min')\n",
    "\n",
    "VanWSdf"
   ]
  },
  {
   "cell_type": "code",
   "execution_count": 4,
   "metadata": {},
   "outputs": [],
   "source": [
    "def mask_knans(a, x):\n",
    "    a = np.asarray(a)\n",
    "    k = a.size\n",
    "    n = np.append(np.isnan(a), [False] * (x - 1))\n",
    "    m = np.empty(k, np.bool8)\n",
    "    m.fill(True)\n",
    "\n",
    "    s = n.strides[0]\n",
    "    i = np.where(strided(n, (k + 1 - x, x), (s, s)).all(1))[0][:, None]\n",
    "    i = i + np.arange(x)\n",
    "    i = pd.unique(i[i < k])\n",
    "\n",
    "    m[i] = False\n",
    "\n",
    "    return m"
   ]
  },
  {
   "cell_type": "code",
   "execution_count": 5,
   "metadata": {},
   "outputs": [
    {
     "name": "stdout",
     "output_type": "stream",
     "text": [
      "height,points,#NaN,%Nan,#RescuablePoints\n",
      "40.0 116366 18368 16 1498\n",
      "60.0 116366 13152 11 982\n",
      "80.0 116366 14544 12 1056\n",
      "100.0 116366 19176 16 1312\n",
      "120.0 116366 29756 26 1858\n",
      "140.0 116366 45458 39 2092\n",
      "160.0 116366 63208 54 2516\n",
      "180.0 116366 79418 68 2410\n",
      "200.0 116366 92560 80 2170\n"
     ]
    }
   ],
   "source": [
    "VanWSdfIntp=VanWSdf\n",
    "\n",
    "print('height,points,#NaN,%Nan,#RescuablePoints')\n",
    "\n",
    "for height in VanWSdf.height.unique():\n",
    "    tot = len(VanWSdf[VanWSdf['height']==height])\n",
    "    drop = len(VanWSdf[VanWSdf['height']==height].dropna())\n",
    "    interpolated = len(VanWSdf[VanWSdf['height']==height])-len(VanWSdfIntp[VanWSdfIntp['height']==height].wind_speed.interpolate().where(mask_knans(VanWSdfIntp[VanWSdfIntp['height']==height].wind_speed,3)).dropna())\n",
    "    print(height, tot, tot-drop, round(100*(tot-drop)/tot), tot-drop-interpolated)\n",
    "    \n",
    "    "
   ]
  },
  {
   "cell_type": "code",
   "execution_count": 6,
   "metadata": {},
   "outputs": [],
   "source": [
    "VanWS40Int=VanWSdfIntp[VanWSdfIntp['height']==40].wind_speed.interpolate().where(mask_knans(VanWSdfIntp[VanWSdfIntp['height']==40].wind_speed,3))\n",
    "VanWS40Intdf=pd.DataFrame(VanWS40Int)\n",
    "VanWS40Intdf['height']=len(VanWS40Int)*[40]\n",
    "\n",
    "VanWS60Int=VanWSdfIntp[VanWSdfIntp['height']==60].wind_speed.interpolate().where(mask_knans(VanWSdfIntp[VanWSdfIntp['height']==60].wind_speed,3))\n",
    "VanWS60Intdf=pd.DataFrame(VanWS60Int)\n",
    "VanWS60Intdf['height']=len(VanWS60Int)*[60]\n",
    "\n",
    "VanWS80Int=VanWSdfIntp[VanWSdfIntp['height']==80].wind_speed.interpolate().where(mask_knans(VanWSdfIntp[VanWSdfIntp['height']==80].wind_speed,3))\n",
    "VanWS80Intdf=pd.DataFrame(VanWS80Int)\n",
    "VanWS80Intdf['height']=len(VanWS80Int)*[80]\n",
    "\n",
    "VanWS100Int=VanWSdfIntp[VanWSdfIntp['height']==100].wind_speed.interpolate().where(mask_knans(VanWSdfIntp[VanWSdfIntp['height']==100].wind_speed,3))\n",
    "VanWS100Intdf=pd.DataFrame(VanWS100Int)\n",
    "VanWS100Intdf['height']=len(VanWS100Int)*[100]\n",
    "\n",
    "VanWS120Int=VanWSdfIntp[VanWSdfIntp['height']==120].wind_speed.interpolate().where(mask_knans(VanWSdfIntp[VanWSdfIntp['height']==120].wind_speed,3))\n",
    "VanWS120Intdf=pd.DataFrame(VanWS120Int)\n",
    "VanWS120Intdf['height']=len(VanWS120Int)*[120]\n",
    "\n",
    "VanWS140Int=VanWSdfIntp[VanWSdfIntp['height']==140].wind_speed.interpolate().where(mask_knans(VanWSdfIntp[VanWSdfIntp['height']==140].wind_speed,3))\n",
    "VanWS140Intdf=pd.DataFrame(VanWS140Int)\n",
    "VanWS140Intdf['height']=len(VanWS140Int)*[140]\n",
    "\n",
    "VanWS160Int=VanWSdfIntp[VanWSdfIntp['height']==160].wind_speed.interpolate().where(mask_knans(VanWSdfIntp[VanWSdfIntp['height']==160].wind_speed,3))\n",
    "VanWS160Intdf=pd.DataFrame(VanWS160Int)\n",
    "VanWS160Intdf['height']=len(VanWS160Int)*[160]\n",
    "\n",
    "VanWS180Int=VanWSdfIntp[VanWSdfIntp['height']==180].wind_speed.interpolate().where(mask_knans(VanWSdfIntp[VanWSdfIntp['height']==180].wind_speed,3))\n",
    "VanWS180Intdf=pd.DataFrame(VanWS180Int)\n",
    "VanWS180Intdf['height']=len(VanWS180Int)*[180]\n",
    "\n",
    "VanWS200Int=VanWSdfIntp[VanWSdfIntp['height']==200].wind_speed.interpolate().where(mask_knans(VanWSdfIntp[VanWSdfIntp['height']==200].wind_speed,3))\n",
    "VanWS200Intdf=pd.DataFrame(VanWS200Int)\n",
    "VanWS200Intdf['height']=len(VanWS200Int)*[200]\n",
    "\n",
    "VanWSdfInt=pd.concat((VanWS40Intdf,VanWS60Intdf,VanWS80Intdf,VanWS100Intdf,VanWS120Intdf,VanWS140Intdf,VanWS160Intdf,VanWS180Intdf,VanWS200Intdf))\n",
    "\n",
    "# VanWSdfInt.to_csv('VansycleLidarInterpolated10min')"
   ]
  },
  {
   "cell_type": "code",
   "execution_count": 7,
   "metadata": {},
   "outputs": [],
   "source": [
    "VanWS40IntHr=VanWSdfInt[VanWSdfInt['height']==40].resample('1H').mean()\n",
    "VanWS60IntHr=VanWSdfInt[VanWSdfInt['height']==60].resample('1H').mean()\n",
    "VanWS80IntHr=VanWSdfInt[VanWSdfInt['height']==80].resample('1H').mean()\n",
    "VanWS100IntHr=VanWSdfInt[VanWSdfInt['height']==100].resample('1H').mean()\n",
    "VanWS120IntHr=VanWSdfInt[VanWSdfInt['height']==120].resample('1H').mean()\n",
    "VanWS140IntHr=VanWSdfInt[VanWSdfInt['height']==140].resample('1H').mean()\n",
    "VanWS160IntHr=VanWSdfInt[VanWSdfInt['height']==160].resample('1H').mean()\n",
    "VanWS180IntHr=VanWSdfInt[VanWSdfInt['height']==180].resample('1H').mean()\n",
    "VanWS200IntHr=VanWSdfInt[VanWSdfInt['height']==200].resample('1H').mean()\n",
    "\n",
    "VanWSdfIntHrdf=pd.concat((VanWS40IntHr,VanWS60IntHr,VanWS80IntHr,VanWS100IntHr,VanWS120IntHr,VanWS140IntHr,VanWS160IntHr,VanWS180IntHr,VanWS200IntHr))\n",
    "\n",
    "VanWSdfIntHrdf.to_csv('VansycleLidarInterpolatedHourly')"
   ]
  },
  {
   "cell_type": "code",
   "execution_count": 10,
   "metadata": {},
   "outputs": [
    {
     "data": {
      "image/png": "[encoded data removed]",
      "text/plain": [
       "<Figure size 432x288 with 1 Axes>"
      ]
     },
     "metadata": {
      "needs_background": "light"
     },
     "output_type": "display_data"
    }
   ],
   "source": [
    "NaN=[11,12,16,26,39]\n",
    "After=[1,1,1,2,2]\n",
    "index=[60,80,100,120,140]\n",
    "NanFrame=pd.DataFrame({'NaN Post-Processing':After,'NaN Pre-Processing':NaN},index=index)\n",
    "ax=NanFrame.plot.barh()\n",
    "plt.ylabel('Height (m)')\n",
    "plt.xlabel('Percetage of data (%)')\n",
    "plt.title('VAN')\n",
    "plt.savefig('VANNan')\n",
    "plt.show()"
   ]
  },
  {
   "cell_type": "code",
   "execution_count": null,
   "metadata": {},
   "outputs": [],
   "source": []
  }
 ],
 "metadata": {
  "kernelspec": {
   "display_name": "Python 3",
   "language": "python",
   "name": "python3"
  },
  "language_info": {
   "codemirror_mode": {
    "name": "ipython",
    "version": 3
   },
   "file_extension": ".py",
   "mimetype": "text/x-python",
   "name": "python",
   "nbconvert_exporter": "python",
   "pygments_lexer": "ipython3",
   "version": "3.7.3"
  }
 },
 "nbformat": 4,
 "nbformat_minor": 4
}
