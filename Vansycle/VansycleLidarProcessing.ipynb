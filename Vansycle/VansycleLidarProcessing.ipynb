{
 "cells": [
  {
   "cell_type": "code",
   "execution_count": 5,
   "metadata": {},
   "outputs": [],
   "source": [
    "import matplotlib.pyplot as plt\n",
    "import pandas as pd\n",
    "import numpy as np\n",
    "import math\n",
    "import xarray as xr\n",
    "from numpy.lib.stride_tricks import as_strided as strided"
   ]
  },
  {
   "cell_type": "code",
   "execution_count": 6,
   "metadata": {},
   "outputs": [],
   "source": [
    "# reading in all Vansycle lidar files\n",
    "VanWS = xr.open_mfdataset('/projects/sebu3651/ProjectResearch/Vansycle/VansycleLidar/lidar.z08.b0.*.nc', combine= 'by_coords', concat_dim= 'time')\n",
    "VanWSdf = VanWS.to_dataframe()\n",
    "\n",
    "# setting time as index\n",
    "VanWSdf.reset_index(inplace=True)\n",
    "VanWSdf.set_index('time', inplace=True)\n",
    "\n",
    "# deleting irrelevant columns\n",
    "del VanWSdf['time_bounds']\n",
    "del VanWSdf['bounds']\n",
    "del VanWSdf['latitude']\n",
    "del VanWSdf['longitude']\n",
    "del VanWSdf['altitude']\n",
    "del VanWSdf['wind_speed_std']\n",
    "del VanWSdf['wind_direction']\n",
    "del VanWSdf['vertical_air_velocity']\n",
    "del VanWSdf['vertical_air_velocity_std']\n",
    "\n",
    "# setting values to NaN instead of default large number\n",
    "VanWSdf['wind_speed'].values[VanWSdf['wind_speed'].values>1000.0]=np.nan"
   ]
  },
  {
   "cell_type": "code",
   "execution_count": 7,
   "metadata": {},
   "outputs": [],
   "source": [
    "# defining a function to fill NaN values with a linear interpolation\n",
    "\n",
    "def mask_knans(a, x):\n",
    "    a = np.asarray(a)\n",
    "    k = a.size\n",
    "    n = np.append(np.isnan(a), [False] * (x - 1))\n",
    "    m = np.empty(k, np.bool8)\n",
    "    m.fill(True)\n",
    "\n",
    "    s = n.strides[0]\n",
    "    i = np.where(strided(n, (k + 1 - x, x), (s, s)).all(1))[0][:, None]\n",
    "    i = i + np.arange(x)\n",
    "    i = pd.unique(i[i < k])\n",
    "\n",
    "    m[i] = False\n",
    "\n",
    "    return m"
   ]
  },
  {
   "cell_type": "code",
   "execution_count": 8,
   "metadata": {},
   "outputs": [],
   "source": [
    "# creating a copy of the dataframe and applying linear interpolation function for each height\n",
    "VanWSdfIntp=VanWSdf\n",
    "\n",
    "# 3 is used as the x value for the function because interpolation occurs if there is a usable point within 3x 10-minute intervals (within 30 min)\n",
    "VanWS40Int=VanWSdfIntp[VanWSdfIntp['height']==40].wind_speed.interpolate().where(mask_knans(VanWSdfIntp[VanWSdfIntp['height']==40].wind_speed,3))\n",
    "VanWS40Intdf=pd.DataFrame(VanWS40Int)\n",
    "VanWS40Intdf['height']=len(VanWS40Int)*[40]\n",
    "\n",
    "VanWS60Int=VanWSdfIntp[VanWSdfIntp['height']==60].wind_speed.interpolate().where(mask_knans(VanWSdfIntp[VanWSdfIntp['height']==60].wind_speed,3))\n",
    "VanWS60Intdf=pd.DataFrame(VanWS60Int)\n",
    "VanWS60Intdf['height']=len(VanWS60Int)*[60]\n",
    "\n",
    "VanWS80Int=VanWSdfIntp[VanWSdfIntp['height']==80].wind_speed.interpolate().where(mask_knans(VanWSdfIntp[VanWSdfIntp['height']==80].wind_speed,3))\n",
    "VanWS80Intdf=pd.DataFrame(VanWS80Int)\n",
    "VanWS80Intdf['height']=len(VanWS80Int)*[80]\n",
    "\n",
    "VanWS100Int=VanWSdfIntp[VanWSdfIntp['height']==100].wind_speed.interpolate().where(mask_knans(VanWSdfIntp[VanWSdfIntp['height']==100].wind_speed,3))\n",
    "VanWS100Intdf=pd.DataFrame(VanWS100Int)\n",
    "VanWS100Intdf['height']=len(VanWS100Int)*[100]\n",
    "\n",
    "VanWS120Int=VanWSdfIntp[VanWSdfIntp['height']==120].wind_speed.interpolate().where(mask_knans(VanWSdfIntp[VanWSdfIntp['height']==120].wind_speed,3))\n",
    "VanWS120Intdf=pd.DataFrame(VanWS120Int)\n",
    "VanWS120Intdf['height']=len(VanWS120Int)*[120]\n",
    "\n",
    "VanWS140Int=VanWSdfIntp[VanWSdfIntp['height']==140].wind_speed.interpolate().where(mask_knans(VanWSdfIntp[VanWSdfIntp['height']==140].wind_speed,3))\n",
    "VanWS140Intdf=pd.DataFrame(VanWS140Int)\n",
    "VanWS140Intdf['height']=len(VanWS140Int)*[140]\n",
    "\n",
    "VanWS160Int=VanWSdfIntp[VanWSdfIntp['height']==160].wind_speed.interpolate().where(mask_knans(VanWSdfIntp[VanWSdfIntp['height']==160].wind_speed,3))\n",
    "VanWS160Intdf=pd.DataFrame(VanWS160Int)\n",
    "VanWS160Intdf['height']=len(VanWS160Int)*[160]\n",
    "\n",
    "VanWS180Int=VanWSdfIntp[VanWSdfIntp['height']==180].wind_speed.interpolate().where(mask_knans(VanWSdfIntp[VanWSdfIntp['height']==180].wind_speed,3))\n",
    "VanWS180Intdf=pd.DataFrame(VanWS180Int)\n",
    "VanWS180Intdf['height']=len(VanWS180Int)*[180]\n",
    "\n",
    "VanWS200Int=VanWSdfIntp[VanWSdfIntp['height']==200].wind_speed.interpolate().where(mask_knans(VanWSdfIntp[VanWSdfIntp['height']==200].wind_speed,3))\n",
    "VanWS200Intdf=pd.DataFrame(VanWS200Int)\n",
    "VanWS200Intdf['height']=len(VanWS200Int)*[200]\n",
    "\n",
    "VanWSdfInt=pd.concat((VanWS40Intdf,VanWS60Intdf,VanWS80Intdf,VanWS100Intdf,VanWS120Intdf,VanWS140Intdf,VanWS160Intdf,VanWS180Intdf,VanWS200Intdf))"
   ]
  },
  {
   "cell_type": "code",
   "execution_count": 9,
   "metadata": {},
   "outputs": [],
   "source": [
    "# taking hourly mean at each height\n",
    "\n",
    "VanWS40IntHr=VanWSdfInt[VanWSdfInt['height']==40].resample('1H').mean()\n",
    "VanWS60IntHr=VanWSdfInt[VanWSdfInt['height']==60].resample('1H').mean()\n",
    "VanWS80IntHr=VanWSdfInt[VanWSdfInt['height']==80].resample('1H').mean()\n",
    "VanWS100IntHr=VanWSdfInt[VanWSdfInt['height']==100].resample('1H').mean()\n",
    "VanWS120IntHr=VanWSdfInt[VanWSdfInt['height']==120].resample('1H').mean()\n",
    "VanWS140IntHr=VanWSdfInt[VanWSdfInt['height']==140].resample('1H').mean()\n",
    "VanWS160IntHr=VanWSdfInt[VanWSdfInt['height']==160].resample('1H').mean()\n",
    "VanWS180IntHr=VanWSdfInt[VanWSdfInt['height']==180].resample('1H').mean()\n",
    "VanWS200IntHr=VanWSdfInt[VanWSdfInt['height']==200].resample('1H').mean()\n",
    "\n",
    "# concatenating each height series into a single dataframe that displays hourly data\n",
    "VanWSdfIntHrdf=pd.concat((VanWS40IntHr,VanWS60IntHr,VanWS80IntHr,VanWS100IntHr,VanWS120IntHr,VanWS140IntHr,VanWS160IntHr,VanWS180IntHr,VanWS200IntHr))"
   ]
  },
  {
   "cell_type": "code",
   "execution_count": 12,
   "metadata": {},
   "outputs": [],
   "source": [
    "VanWSdf.to_csv('VansycleLidar10min')\n",
    "VanWSdfInt.to_csv('VansycleLidarInterpolated10min')\n",
    "VanWSdfIntHrdf.to_csv('VansycleLidarInterpolatedHourly')"
   ]
  },
  {
   "cell_type": "code",
   "execution_count": null,
   "metadata": {},
   "outputs": [],
   "source": []
  }
 ],
 "metadata": {
  "kernelspec": {
   "display_name": "Python 3",
   "language": "python",
   "name": "python3"
  },
  "language_info": {
   "codemirror_mode": {
    "name": "ipython",
    "version": 3
   },
   "file_extension": ".py",
   "mimetype": "text/x-python",
   "name": "python",
   "nbconvert_exporter": "python",
   "pygments_lexer": "ipython3",
   "version": "3.7.3"
  }
 },
 "nbformat": 4,
 "nbformat_minor": 4
}
