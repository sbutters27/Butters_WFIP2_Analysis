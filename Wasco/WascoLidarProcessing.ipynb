{
 "cells": [
  {
   "cell_type": "code",
   "execution_count": 7,
   "metadata": {},
   "outputs": [],
   "source": [
    "import matplotlib.pyplot as plt\n",
    "import pandas as pd\n",
    "import numpy as np\n",
    "import math\n",
    "import glob\n",
    "import xarray as xr\n",
    "from numpy.lib.stride_tricks import as_strided as strided"
   ]
  },
  {
   "cell_type": "code",
   "execution_count": 8,
   "metadata": {},
   "outputs": [],
   "source": [
    "# loop to read in all files in a single folder\n",
    "\n",
    "path = '/projects/sebu3651/ProjectResearch/Wasco/WascoLidar/CU'\n",
    "all_files = sorted(glob.glob(path + \"/*.sta\"))\n",
    "\n",
    "li = []\n",
    "\n",
    "for filename in all_files:\n",
    "#     print(filename)\n",
    "    df = pd.read_csv(filename,sep='\\t',header=56, encoding='iso-8859-1')\n",
    "    li.append(df)\n",
    "\n",
    "WasWSdf = pd.concat(li, axis=0, ignore_index=True)\n",
    "WasWSdf.set_index('Date',inplace=True)"
   ]
  },
  {
   "cell_type": "code",
   "execution_count": 9,
   "metadata": {},
   "outputs": [],
   "source": [
    "# renaming columns to be more intuitive\n",
    "WasWSdf = WasWSdf.rename({'Vhm1': '40m', 'Vhm2': '60m','Vhm3': '80m','Vhm4': '100m','Vhm5': '120m','Vhm6': '140m','Vhm7': '160m','Vhm8': '180m','Vhm9': '200m','Vhm10': '220m'}, axis=1)"
   ]
  },
  {
   "cell_type": "code",
   "execution_count": 10,
   "metadata": {},
   "outputs": [],
   "source": [
    "# defining a function to fill NaN values with a linear interpolation\n",
    "\n",
    "def mask_knans(a, x):\n",
    "    a = np.asarray(a)\n",
    "    k = a.size\n",
    "    n = np.append(np.isnan(a), [False] * (x - 1))\n",
    "    m = np.empty(k, np.bool8)\n",
    "    m.fill(True)\n",
    "\n",
    "    s = n.strides[0]\n",
    "    i = np.where(strided(n, (k + 1 - x, x), (s, s)).all(1))[0][:, None]\n",
    "    i = i + np.arange(x)\n",
    "    i = pd.unique(i[i < k])\n",
    "\n",
    "    m[i] = False\n",
    "\n",
    "    return m"
   ]
  },
  {
   "cell_type": "code",
   "execution_count": 11,
   "metadata": {},
   "outputs": [],
   "source": [
    "# creating a copy of the dataframe and applying linear interpolation function at each height\n",
    "\n",
    "WasWSdfIntp=WasWSdf\n",
    "\n",
    "# 15 is used as the x value for the function because interpolation occurs if there is a usable point within 15x 2-minute intervals (within 30 min)\n",
    "WasWSdfIntp['40m']=WasWSdf['40m'].interpolate().where(mask_knans(WasWSdf['40m'].tolist(),15))\n",
    "WasWSdfIntp['60m']=WasWSdf['60m'].interpolate().where(mask_knans(WasWSdf['60m'].tolist(),15))\n",
    "WasWSdfIntp['80m']=WasWSdf['80m'].interpolate().where(mask_knans(WasWSdf['80m'].tolist(),15))\n",
    "WasWSdfIntp['100m']=WasWSdf['100m'].interpolate().where(mask_knans(WasWSdf['100m'].tolist(),15))\n",
    "WasWSdfIntp['120m']=WasWSdf['120m'].interpolate().where(mask_knans(WasWSdf['120m'].tolist(),15))\n",
    "WasWSdfIntp['140m']=WasWSdf['140m'].interpolate().where(mask_knans(WasWSdf['140m'].tolist(),15))\n",
    "WasWSdfIntp['160m']=WasWSdf['160m'].interpolate().where(mask_knans(WasWSdf['160m'].tolist(),15))\n",
    "WasWSdfIntp['180m']=WasWSdf['180m'].interpolate().where(mask_knans(WasWSdf['180m'].tolist(),15))\n",
    "WasWSdfIntp['200m']=WasWSdf['200m'].interpolate().where(mask_knans(WasWSdf['200m'].tolist(),15))"
   ]
  },
  {
   "cell_type": "code",
   "execution_count": 12,
   "metadata": {},
   "outputs": [],
   "source": [
    "# creating copy of interpolated dataframe and resampling 2-minute outputs hourly\n",
    "\n",
    "WasWSdfIntpHr=WasWSdf\n",
    "WasWSdfIntpHr.index=pd.to_datetime(WasWSdfIntpHr.index)\n",
    "\n",
    "# taking hourly mean at each height\n",
    "WasWS40IntpHr=WasWSdfIntpHr['40m'].resample('1H').mean()\n",
    "WasWS60IntpHr=WasWSdfIntpHr['60m'].resample('1H').mean()\n",
    "WasWS80IntpHr=WasWSdfIntpHr['80m'].resample('1H').mean()\n",
    "WasWS100IntpHr=WasWSdfIntpHr['100m'].resample('1H').mean()\n",
    "WasWS120IntpHr=WasWSdfIntpHr['120m'].resample('1H').mean()\n",
    "WasWS140IntpHr=WasWSdfIntpHr['140m'].resample('1H').mean()\n",
    "WasWS160IntpHr=WasWSdfIntpHr['160m'].resample('1H').mean()\n",
    "WasWS180IntpHr=WasWSdfIntpHr['180m'].resample('1H').mean()\n",
    "WasWS200IntpHr=WasWSdfIntpHr['200m'].resample('1H').mean()\n",
    "\n",
    "# concatenating each height series into a single dataframe that displays hourly data\n",
    "WasWSdfIntpHr=pd.concat((WasWS40IntpHr,WasWS60IntpHr,WasWS80IntpHr,WasWS100IntpHr,WasWS120IntpHr,WasWS140IntpHr,WasWS160IntpHr,WasWS180IntpHr,WasWS200IntpHr),axis=1)"
   ]
  },
  {
   "cell_type": "code",
   "execution_count": 13,
   "metadata": {},
   "outputs": [],
   "source": [
    "WasWSdf.to_csv('WascoLidar2min')\n",
    "WasWSdfIntp.to_csv('WascoLidarInterpolated2min')\n",
    "WasWSdfIntpHr.to_csv('WascoLidarInterpolatedHourly')"
   ]
  }
 ],
 "metadata": {
  "kernelspec": {
   "display_name": "Python 3",
   "language": "python",
   "name": "python3"
  },
  "language_info": {
   "codemirror_mode": {
    "name": "ipython",
    "version": 3
   },
   "file_extension": ".py",
   "mimetype": "text/x-python",
   "name": "python",
   "nbconvert_exporter": "python",
   "pygments_lexer": "ipython3",
   "version": "3.7.3"
  }
 },
 "nbformat": 4,
 "nbformat_minor": 4
}
